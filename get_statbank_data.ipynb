{
 "cells": [
  {
   "cell_type": "code",
   "execution_count": null,
   "metadata": {},
   "outputs": [],
   "source": [
    "\"\"\"\n",
    "{\n",
    "  \"query\": [\n",
    "    {\n",
    "      \"code\": \"Region\",\n",
    "      \"selection\": {\n",
    "        \"filter\": \"vs:KommunerNyeste\",\n",
    "        \"values\": [\n",
    "          \"*\"\n",
    "        ]\n",
    "      }\n",
    "    },\n",
    "    {\n",
    "      \"code\": \"Alder\",\n",
    "      \"selection\": {\n",
    "        \"filter\": \"vs:AlleAldre00B\",\n",
    "        \"values\": []\n",
    "      }\n",
    "    },\n",
    "    {\n",
    "      \"code\": \"Tid\",\n",
    "      \"selection\": {\n",
    "        \"filter\": \"item\",\n",
    "        \"values\": [\n",
    "          \"2018\"\n",
    "        ]\n",
    "      }\n",
    "    }\n",
    "  ],\n",
    "  \"response\": {\n",
    "    \"format\": \"csv\"\n",
    "  }\n",
    "}\n",
    "\"\"\""
   ]
  },
  {
   "cell_type": "code",
   "execution_count": 1,
   "metadata": {},
   "outputs": [],
   "source": [
    "import requests"
   ]
  },
  {
   "cell_type": "markdown",
   "metadata": {},
   "source": [
    "## Earnings"
   ]
  },
  {
   "cell_type": "code",
   "execution_count": 80,
   "metadata": {},
   "outputs": [],
   "source": [
    "URL = \"https://data.ssb.no/api/v0/no/table/11418/\"\n",
    "\n",
    "query = {\n",
    "  \"query\": [\n",
    "    {\n",
    "      \"code\": \"MaaleMetode\",\n",
    "      \"selection\": {\n",
    "        \"filter\": \"item\",\n",
    "        \"values\": [\n",
    "          \"02\",\n",
    "          \"01\",\n",
    "          \"10\"\n",
    "        ]\n",
    "      }\n",
    "    },\n",
    "    {\n",
    "      \"code\": \"Yrke\",\n",
    "      \"selection\": {\n",
    "        \"filter\": \"all\",\n",
    "        \"values\": [\n",
    "         \"*\"\n",
    "        ]\n",
    "      }\n",
    "    },\n",
    "    {\n",
    "      \"code\": \"Sektor\",\n",
    "      \"selection\": {\n",
    "        \"filter\": \"item\",\n",
    "        \"values\": [\n",
    "          \"ALLE\"\n",
    "        ]\n",
    "      }\n",
    "    },\n",
    "    {\n",
    "      \"code\": \"Kjonn\",\n",
    "      \"selection\": {\n",
    "        \"filter\": \"item\",\n",
    "        \"values\": [\n",
    "          \"0\"\n",
    "        ]\n",
    "      }\n",
    "    },\n",
    "    {\n",
    "      \"code\": \"AvtaltVanlig\",\n",
    "      \"selection\": {\n",
    "        \"filter\": \"item\",\n",
    "        \"values\": [\n",
    "          \"0\"\n",
    "        ]\n",
    "      }\n",
    "    },\n",
    "    {\n",
    "      \"code\": \"ContentsCode\",\n",
    "      \"selection\": {\n",
    "        \"filter\": \"item\",\n",
    "        \"values\": [\n",
    "          \"Manedslonn\"\n",
    "        ]\n",
    "      }\n",
    "    },\n",
    "    {\n",
    "      \"code\": \"Tid\",\n",
    "      \"selection\": {\n",
    "        \"filter\": \"item\",\n",
    "        \"values\": [\n",
    "          \"2019\"\n",
    "        ]\n",
    "      }\n",
    "    }\n",
    "  ],\n",
    "  \"response\": {\n",
    "    \"format\": \"csv\"\n",
    "  }\n",
    "}"
   ]
  },
  {
   "cell_type": "code",
   "execution_count": 81,
   "metadata": {},
   "outputs": [],
   "source": [
    "response = requests.post(URL, json=query)"
   ]
  },
  {
   "cell_type": "code",
   "execution_count": 82,
   "metadata": {},
   "outputs": [
    {
     "data": {
      "text/plain": [
       "200"
      ]
     },
     "execution_count": 82,
     "metadata": {},
     "output_type": "execute_result"
    }
   ],
   "source": [
    "response.status_code"
   ]
  },
  {
   "cell_type": "code",
   "execution_count": 197,
   "metadata": {},
   "outputs": [
    {
     "data": {
      "text/plain": [
       "['\"statistikkmål\",\"yrke\",\"sektor\",\"kjønn\",\"avtalt/vanlig arbeidstid per uke\",\"Månedslønn (kr) 2019\"',\n",
       " '\"Gjennomsnitt\",\"0-9 Alle yrker\",\"Sum alle sektorer\",\"Begge kjønn\",\"I alt\",47290']"
      ]
     },
     "execution_count": 197,
     "metadata": {},
     "output_type": "execute_result"
    }
   ],
   "source": [
    "# Just illustrating lines in file\n",
    "response.text.split('\\r\\n')[:2]"
   ]
  },
  {
   "cell_type": "code",
   "execution_count": null,
   "metadata": {},
   "outputs": [],
   "source": [
    "len(response.text)"
   ]
  },
  {
   "cell_type": "code",
   "execution_count": 99,
   "metadata": {},
   "outputs": [],
   "source": [
    "def make_df(csvstring, names=None, dtypes=None, header=None, skiprows=None):\n",
    "    import pandas as pd\n",
    "    from io import StringIO\n",
    "    df = pd.read_csv(StringIO(csvstring), names=names, dtype=dtypes, header=header, skiprows=skiprows)\n",
    "    return(df)"
   ]
  },
  {
   "cell_type": "code",
   "execution_count": 226,
   "metadata": {},
   "outputs": [],
   "source": [
    "df = make_df(response.text, names=['measure', 'ISCO_text', 'sektor', 'kjonn', 'arbtid', 'lonn'], skiprows=1)"
   ]
  },
  {
   "cell_type": "code",
   "execution_count": 227,
   "metadata": {},
   "outputs": [],
   "source": [
    "df = (df[['measure', 'ISCO_text', 'lonn']]\n",
    "      .query('lonn!=\":\"')\n",
    "      .loc[df[\"ISCO_text\"].apply(lambda x: True if re.match('[0-9]{4}', x[:4]) else False )]\n",
    "      .assign(lonn = pd.to_numeric(df[\"lonn\"], errors=\"coerce\") )\n",
    "      .pivot(index='ISCO_text', columns='measure', values='lonn')\n",
    "      .reset_index()\n",
    "      .assign(ISCO = lambda x: x[\"ISCO_text\"].str[:4])\n",
    "      )"
   ]
  },
  {
   "cell_type": "code",
   "execution_count": 228,
   "metadata": {},
   "outputs": [
    {
     "data": {
      "text/html": [
       "<div>\n",
       "<style scoped>\n",
       "    .dataframe tbody tr th:only-of-type {\n",
       "        vertical-align: middle;\n",
       "    }\n",
       "\n",
       "    .dataframe tbody tr th {\n",
       "        vertical-align: top;\n",
       "    }\n",
       "\n",
       "    .dataframe thead th {\n",
       "        text-align: right;\n",
       "    }\n",
       "</style>\n",
       "<table border=\"1\" class=\"dataframe\">\n",
       "  <thead>\n",
       "    <tr style=\"text-align: right;\">\n",
       "      <th>measure</th>\n",
       "      <th>ISCO_text</th>\n",
       "      <th>Antall arbeidsforhold med lønn</th>\n",
       "      <th>Gjennomsnitt</th>\n",
       "      <th>Median</th>\n",
       "      <th>ISCO</th>\n",
       "    </tr>\n",
       "  </thead>\n",
       "  <tbody>\n",
       "    <tr>\n",
       "      <th>0</th>\n",
       "      <td>0110 Offiserer fra fenrik og høyere grad</td>\n",
       "      <td>9114.0</td>\n",
       "      <td>63990.0</td>\n",
       "      <td>59200.0</td>\n",
       "      <td>0110</td>\n",
       "    </tr>\n",
       "    <tr>\n",
       "      <th>1</th>\n",
       "      <td>0210 Befal med sersjant grad</td>\n",
       "      <td>1193.0</td>\n",
       "      <td>46810.0</td>\n",
       "      <td>43240.0</td>\n",
       "      <td>0210</td>\n",
       "    </tr>\n",
       "    <tr>\n",
       "      <th>2</th>\n",
       "      <td>1111 Politikere</td>\n",
       "      <td>1830.0</td>\n",
       "      <td>68410.0</td>\n",
       "      <td>69390.0</td>\n",
       "      <td>1111</td>\n",
       "    </tr>\n",
       "    <tr>\n",
       "      <th>3</th>\n",
       "      <td>1112 Toppledere i offentlig administrasjon</td>\n",
       "      <td>1028.0</td>\n",
       "      <td>97940.0</td>\n",
       "      <td>93750.0</td>\n",
       "      <td>1112</td>\n",
       "    </tr>\n",
       "    <tr>\n",
       "      <th>4</th>\n",
       "      <td>1114 Toppledere i interesseorganisasjoner</td>\n",
       "      <td>2344.0</td>\n",
       "      <td>62890.0</td>\n",
       "      <td>58330.0</td>\n",
       "      <td>1114</td>\n",
       "    </tr>\n",
       "  </tbody>\n",
       "</table>\n",
       "</div>"
      ],
      "text/plain": [
       "measure                                   ISCO_text  \\\n",
       "0          0110 Offiserer fra fenrik og høyere grad   \n",
       "1                      0210 Befal med sersjant grad   \n",
       "2                                   1111 Politikere   \n",
       "3        1112 Toppledere i offentlig administrasjon   \n",
       "4         1114 Toppledere i interesseorganisasjoner   \n",
       "\n",
       "measure  Antall arbeidsforhold med lønn  Gjennomsnitt   Median  ISCO  \n",
       "0                                9114.0       63990.0  59200.0  0110  \n",
       "1                                1193.0       46810.0  43240.0  0210  \n",
       "2                                1830.0       68410.0  69390.0  1111  \n",
       "3                                1028.0       97940.0  93750.0  1112  \n",
       "4                                2344.0       62890.0  58330.0  1114  "
      ]
     },
     "execution_count": 228,
     "metadata": {},
     "output_type": "execute_result"
    }
   ],
   "source": [
    "df.head()"
   ]
  },
  {
   "cell_type": "code",
   "execution_count": 229,
   "metadata": {},
   "outputs": [],
   "source": [
    "df.columns = ['ISCO_text', 'antall', 'snitt', 'median', 'ISCO']"
   ]
  },
  {
   "cell_type": "code",
   "execution_count": 230,
   "metadata": {},
   "outputs": [
    {
     "data": {
      "text/plain": [
       "ISCO_text     object\n",
       "antall       float64\n",
       "snitt        float64\n",
       "median       float64\n",
       "ISCO          object\n",
       "dtype: object"
      ]
     },
     "execution_count": 230,
     "metadata": {},
     "output_type": "execute_result"
    }
   ],
   "source": [
    "df.dtypes"
   ]
  },
  {
   "cell_type": "code",
   "execution_count": 231,
   "metadata": {},
   "outputs": [
    {
     "data": {
      "text/html": [
       "<div>\n",
       "<style scoped>\n",
       "    .dataframe tbody tr th:only-of-type {\n",
       "        vertical-align: middle;\n",
       "    }\n",
       "\n",
       "    .dataframe tbody tr th {\n",
       "        vertical-align: top;\n",
       "    }\n",
       "\n",
       "    .dataframe thead th {\n",
       "        text-align: right;\n",
       "    }\n",
       "</style>\n",
       "<table border=\"1\" class=\"dataframe\">\n",
       "  <thead>\n",
       "    <tr style=\"text-align: right;\">\n",
       "      <th></th>\n",
       "      <th>ISCO_text</th>\n",
       "      <th>antall</th>\n",
       "      <th>snitt</th>\n",
       "      <th>median</th>\n",
       "      <th>ISCO</th>\n",
       "    </tr>\n",
       "  </thead>\n",
       "  <tbody>\n",
       "    <tr>\n",
       "      <th>0</th>\n",
       "      <td>0110 Offiserer fra fenrik og høyere grad</td>\n",
       "      <td>9114.0</td>\n",
       "      <td>63990.0</td>\n",
       "      <td>59200.0</td>\n",
       "      <td>0110</td>\n",
       "    </tr>\n",
       "    <tr>\n",
       "      <th>1</th>\n",
       "      <td>0210 Befal med sersjant grad</td>\n",
       "      <td>1193.0</td>\n",
       "      <td>46810.0</td>\n",
       "      <td>43240.0</td>\n",
       "      <td>0210</td>\n",
       "    </tr>\n",
       "    <tr>\n",
       "      <th>2</th>\n",
       "      <td>1111 Politikere</td>\n",
       "      <td>1830.0</td>\n",
       "      <td>68410.0</td>\n",
       "      <td>69390.0</td>\n",
       "      <td>1111</td>\n",
       "    </tr>\n",
       "    <tr>\n",
       "      <th>3</th>\n",
       "      <td>1112 Toppledere i offentlig administrasjon</td>\n",
       "      <td>1028.0</td>\n",
       "      <td>97940.0</td>\n",
       "      <td>93750.0</td>\n",
       "      <td>1112</td>\n",
       "    </tr>\n",
       "    <tr>\n",
       "      <th>4</th>\n",
       "      <td>1114 Toppledere i interesseorganisasjoner</td>\n",
       "      <td>2344.0</td>\n",
       "      <td>62890.0</td>\n",
       "      <td>58330.0</td>\n",
       "      <td>1114</td>\n",
       "    </tr>\n",
       "  </tbody>\n",
       "</table>\n",
       "</div>"
      ],
      "text/plain": [
       "                                    ISCO_text  antall    snitt   median  ISCO\n",
       "0    0110 Offiserer fra fenrik og høyere grad  9114.0  63990.0  59200.0  0110\n",
       "1                0210 Befal med sersjant grad  1193.0  46810.0  43240.0  0210\n",
       "2                             1111 Politikere  1830.0  68410.0  69390.0  1111\n",
       "3  1112 Toppledere i offentlig administrasjon  1028.0  97940.0  93750.0  1112\n",
       "4   1114 Toppledere i interesseorganisasjoner  2344.0  62890.0  58330.0  1114"
      ]
     },
     "execution_count": 231,
     "metadata": {},
     "output_type": "execute_result"
    }
   ],
   "source": [
    "df.head()"
   ]
  },
  {
   "cell_type": "code",
   "execution_count": 232,
   "metadata": {},
   "outputs": [],
   "source": [
    "df.to_feather(\"workdata/earnings.feather\")"
   ]
  },
  {
   "cell_type": "markdown",
   "metadata": {},
   "source": [
    "## Sysselsetting kommune"
   ]
  },
  {
   "cell_type": "code",
   "execution_count": null,
   "metadata": {},
   "outputs": [],
   "source": [
    "URL = \"https://data.ssb.no/api/v0/no/table/11619\"\n",
    "\n",
    "query = {\n",
    "  \"query\": [\n",
    "    {\n",
    "      \"code\": \"Region\",\n",
    "      \"selection\": {\n",
    "        \"filter\": \"all\",\n",
    "        \"values\": [\n",
    "          \"*\"\n",
    "        ]\n",
    "      }\n",
    "    },\n",
    "    {\n",
    "      \"code\": \"Kjonn\",\n",
    "      \"selection\": {\n",
    "        \"filter\": \"item\",\n",
    "        \"values\": [\n",
    "          \"0\"\n",
    "        ]\n",
    "      }\n",
    "    },\n",
    "    {\n",
    "      \"code\": \"Alder\",\n",
    "      \"selection\": {\n",
    "        \"filter\": \"item\",\n",
    "        \"values\": [\n",
    "          \"15-74\"\n",
    "        ]\n",
    "      }\n",
    "    },\n",
    "    {\n",
    "      \"code\": \"Yrke\",\n",
    "      \"selection\": {\n",
    "        \"filter\": \"item\",\n",
    "        \"values\": [\n",
    "          \"1\",\n",
    "          \"2\",\n",
    "          \"3_01-03\",\n",
    "          \"4\",\n",
    "          \"5\",\n",
    "          \"6\",\n",
    "          \"7\",\n",
    "          \"8\",\n",
    "          \"9\"\n",
    "        ]\n",
    "      }\n",
    "    },\n",
    "    {\n",
    "      \"code\": \"Tid\",\n",
    "      \"selection\": {\n",
    "        \"filter\": \"item\",\n",
    "        \"values\": [\n",
    "          \"2018\"\n",
    "        ]\n",
    "      }\n",
    "    }\n",
    "  ],\n",
    "  \"response\": {\n",
    "    \"format\": \"csv\"\n",
    "  }\n",
    "}"
   ]
  },
  {
   "cell_type": "code",
   "execution_count": null,
   "metadata": {},
   "outputs": [],
   "source": [
    "response = requests.post(URL, json=query)"
   ]
  },
  {
   "cell_type": "code",
   "execution_count": null,
   "metadata": {},
   "outputs": [],
   "source": [
    "response.status_code"
   ]
  },
  {
   "cell_type": "code",
   "execution_count": null,
   "metadata": {},
   "outputs": [],
   "source": [
    "response.text"
   ]
  },
  {
   "cell_type": "code",
   "execution_count": 75,
   "metadata": {},
   "outputs": [],
   "source": []
  },
  {
   "cell_type": "code",
   "execution_count": 76,
   "metadata": {},
   "outputs": [],
   "source": []
  },
  {
   "cell_type": "code",
   "execution_count": 78,
   "metadata": {},
   "outputs": [
    {
     "data": {
      "text/html": [
       "<div>\n",
       "<style scoped>\n",
       "    .dataframe tbody tr th:only-of-type {\n",
       "        vertical-align: middle;\n",
       "    }\n",
       "\n",
       "    .dataframe tbody tr th {\n",
       "        vertical-align: top;\n",
       "    }\n",
       "\n",
       "    .dataframe thead th {\n",
       "        text-align: right;\n",
       "    }\n",
       "</style>\n",
       "<table border=\"1\" class=\"dataframe\">\n",
       "  <thead>\n",
       "    <tr style=\"text-align: right;\">\n",
       "      <th></th>\n",
       "      <th>statistikkmål</th>\n",
       "      <th>yrke</th>\n",
       "      <th>sektor</th>\n",
       "      <th>kjønn</th>\n",
       "      <th>avtalt/vanlig arbeidstid per uke</th>\n",
       "      <th>Månedslønn (kr) 2019</th>\n",
       "    </tr>\n",
       "  </thead>\n",
       "  <tbody>\n",
       "    <tr>\n",
       "      <th>0</th>\n",
       "      <td>Gjennomsnitt</td>\n",
       "      <td>0-9 Alle yrker</td>\n",
       "      <td>Sum alle sektorer</td>\n",
       "      <td>Begge kjønn</td>\n",
       "      <td>I alt</td>\n",
       "      <td>47290</td>\n",
       "    </tr>\n",
       "    <tr>\n",
       "      <th>1</th>\n",
       "      <td>Gjennomsnitt</td>\n",
       "      <td>00 Uoppgitt / yrker som ikke kan identifiseres</td>\n",
       "      <td>Sum alle sektorer</td>\n",
       "      <td>Begge kjønn</td>\n",
       "      <td>I alt</td>\n",
       "      <td>:</td>\n",
       "    </tr>\n",
       "    <tr>\n",
       "      <th>2</th>\n",
       "      <td>Gjennomsnitt</td>\n",
       "      <td>000 Uoppgitt / yrker som ikke kan identifiseres</td>\n",
       "      <td>Sum alle sektorer</td>\n",
       "      <td>Begge kjønn</td>\n",
       "      <td>I alt</td>\n",
       "      <td>:</td>\n",
       "    </tr>\n",
       "    <tr>\n",
       "      <th>3</th>\n",
       "      <td>Gjennomsnitt</td>\n",
       "      <td>0000 Uoppgitt / yrker som ikke kan identifiseres</td>\n",
       "      <td>Sum alle sektorer</td>\n",
       "      <td>Begge kjønn</td>\n",
       "      <td>I alt</td>\n",
       "      <td>:</td>\n",
       "    </tr>\n",
       "    <tr>\n",
       "      <th>4</th>\n",
       "      <td>Gjennomsnitt</td>\n",
       "      <td>01 Offiserer fra fenrik og høyere grad</td>\n",
       "      <td>Sum alle sektorer</td>\n",
       "      <td>Begge kjønn</td>\n",
       "      <td>I alt</td>\n",
       "      <td>63990</td>\n",
       "    </tr>\n",
       "  </tbody>\n",
       "</table>\n",
       "</div>"
      ],
      "text/plain": [
       "  statistikkmål                                              yrke  \\\n",
       "0  Gjennomsnitt                                    0-9 Alle yrker   \n",
       "1  Gjennomsnitt    00 Uoppgitt / yrker som ikke kan identifiseres   \n",
       "2  Gjennomsnitt   000 Uoppgitt / yrker som ikke kan identifiseres   \n",
       "3  Gjennomsnitt  0000 Uoppgitt / yrker som ikke kan identifiseres   \n",
       "4  Gjennomsnitt            01 Offiserer fra fenrik og høyere grad   \n",
       "\n",
       "              sektor        kjønn avtalt/vanlig arbeidstid per uke  \\\n",
       "0  Sum alle sektorer  Begge kjønn                            I alt   \n",
       "1  Sum alle sektorer  Begge kjønn                            I alt   \n",
       "2  Sum alle sektorer  Begge kjønn                            I alt   \n",
       "3  Sum alle sektorer  Begge kjønn                            I alt   \n",
       "4  Sum alle sektorer  Begge kjønn                            I alt   \n",
       "\n",
       "  Månedslønn (kr) 2019  \n",
       "0                47290  \n",
       "1                    :  \n",
       "2                    :  \n",
       "3                    :  \n",
       "4                63990  "
      ]
     },
     "execution_count": 78,
     "metadata": {},
     "output_type": "execute_result"
    }
   ],
   "source": [
    "df.head()"
   ]
  },
  {
   "cell_type": "code",
   "execution_count": 79,
   "metadata": {},
   "outputs": [
    {
     "data": {
      "text/plain": [
       "Index(['statistikkmål', 'yrke', 'sektor', 'kjønn',\n",
       "       'avtalt/vanlig arbeidstid per uke', 'Månedslønn (kr) 2019'],\n",
       "      dtype='object')"
      ]
     },
     "execution_count": 79,
     "metadata": {},
     "output_type": "execute_result"
    }
   ],
   "source": [
    "df.columns"
   ]
  },
  {
   "cell_type": "markdown",
   "metadata": {},
   "source": [
    "## Area"
   ]
  },
  {
   "cell_type": "code",
   "execution_count": null,
   "metadata": {},
   "outputs": [],
   "source": [
    "URL = \"https://data.ssb.no/api/v0/no/table/11342\"\n",
    "\n",
    "query = {\n",
    "  \"query\": [\n",
    "    {\n",
    "      \"code\": \"Region\",\n",
    "      \"selection\": {\n",
    "        \"filter\": \"all\",\n",
    "        \"values\": [\n",
    "          \"*\"\n",
    "        ]\n",
    "      }\n",
    "    },\n",
    "    {\n",
    "      \"code\": \"ContentsCode\",\n",
    "      \"selection\": {\n",
    "        \"filter\": \"item\",\n",
    "        \"values\": [\n",
    "          \"Folkemengde\",\n",
    "          \"ArealKm2\",\n",
    "          \"LandArealKm2\",\n",
    "          \"FolkeLandArealKm2\"\n",
    "        ]\n",
    "      }\n",
    "    },\n",
    "    {\n",
    "      \"code\": \"Tid\",\n",
    "      \"selection\": {\n",
    "        \"filter\": \"item\",\n",
    "        \"values\": [\n",
    "          \"2019\"\n",
    "        ]\n",
    "      }\n",
    "    }\n",
    "  ],\n",
    "  \"response\": {\n",
    "    \"format\": \"csv\"\n",
    "  }\n",
    "}\n"
   ]
  },
  {
   "cell_type": "code",
   "execution_count": null,
   "metadata": {},
   "outputs": [],
   "source": [
    "response = requests.post(URL, json=query)\n",
    "response.status_code"
   ]
  },
  {
   "cell_type": "code",
   "execution_count": null,
   "metadata": {},
   "outputs": [],
   "source": [
    "response.text"
   ]
  },
  {
   "cell_type": "markdown",
   "metadata": {},
   "source": [
    "## Employed"
   ]
  },
  {
   "cell_type": "code",
   "execution_count": 2,
   "metadata": {},
   "outputs": [],
   "source": [
    "URL = 'https://data.ssb.no/api/v0/no/table/12542/'\n",
    "\n",
    "query = {\n",
    "  \"query\": [\n",
    "    {\n",
    "      \"code\": \"Yrke\",\n",
    "      \"selection\": {\n",
    "        \"filter\": \"all\",\n",
    "        \"values\": [\n",
    "          \"*\"\n",
    "        ]\n",
    "      }\n",
    "    },\n",
    "    {\n",
    "      \"code\": \"Kjonn\",\n",
    "      \"selection\": {\n",
    "        \"filter\": \"item\",\n",
    "        \"values\": [\n",
    "          \"0\"\n",
    "        ]\n",
    "      }\n",
    "    },\n",
    "    {\n",
    "      \"code\": \"ArbeidsTidRen\",\n",
    "      \"selection\": {\n",
    "        \"filter\": \"vs:ArbTidS11\",\n",
    "        \"values\": [\n",
    "          \"P000-100\"\n",
    "        ]\n",
    "      }\n",
    "    },\n",
    "    {\n",
    "      \"code\": \"Tid\",\n",
    "      \"selection\": {\n",
    "        \"filter\": \"item\",\n",
    "        \"values\": [\n",
    "          \"2019\"\n",
    "        ]\n",
    "      }\n",
    "    }\n",
    "  ],\n",
    "  \"response\": {\n",
    "    \"format\": \"csv\"\n",
    "  }\n",
    "}"
   ]
  },
  {
   "cell_type": "code",
   "execution_count": 3,
   "metadata": {},
   "outputs": [
    {
     "data": {
      "text/plain": [
       "200"
      ]
     },
     "execution_count": 3,
     "metadata": {},
     "output_type": "execute_result"
    }
   ],
   "source": [
    "response = requests.post(URL, json=query)\n",
    "response.status_code"
   ]
  },
  {
   "cell_type": "code",
   "execution_count": 4,
   "metadata": {},
   "outputs": [
    {
     "data": {
      "text/plain": [
       "35776"
      ]
     },
     "execution_count": 4,
     "metadata": {},
     "output_type": "execute_result"
    }
   ],
   "source": [
    "len(response.text)"
   ]
  },
  {
   "cell_type": "code",
   "execution_count": 15,
   "metadata": {},
   "outputs": [],
   "source": [
    "import pandas as pd\n",
    "from io import StringIO\n",
    "syss = pd.read_csv(StringIO(response.text))"
   ]
  },
  {
   "cell_type": "code",
   "execution_count": 18,
   "metadata": {},
   "outputs": [
    {
     "data": {
      "text/html": [
       "<div>\n",
       "<style scoped>\n",
       "    .dataframe tbody tr th:only-of-type {\n",
       "        vertical-align: middle;\n",
       "    }\n",
       "\n",
       "    .dataframe tbody tr th {\n",
       "        vertical-align: top;\n",
       "    }\n",
       "\n",
       "    .dataframe thead th {\n",
       "        text-align: right;\n",
       "    }\n",
       "</style>\n",
       "<table border=\"1\" class=\"dataframe\">\n",
       "  <thead>\n",
       "    <tr style=\"text-align: right;\">\n",
       "      <th></th>\n",
       "      <th>yrke</th>\n",
       "      <th>kjønn</th>\n",
       "      <th>arbeidstid</th>\n",
       "      <th>Lønnstakere 2019</th>\n",
       "    </tr>\n",
       "  </thead>\n",
       "  <tbody>\n",
       "    <tr>\n",
       "      <th>0</th>\n",
       "      <td>0-9 Alle yrker</td>\n",
       "      <td>Begge kjønn</td>\n",
       "      <td>I alt</td>\n",
       "      <td>2562491</td>\n",
       "    </tr>\n",
       "    <tr>\n",
       "      <th>1</th>\n",
       "      <td>00 Uoppgitt / yrker som ikke kan identifiseres</td>\n",
       "      <td>Begge kjønn</td>\n",
       "      <td>I alt</td>\n",
       "      <td>9057</td>\n",
       "    </tr>\n",
       "    <tr>\n",
       "      <th>2</th>\n",
       "      <td>000 Uoppgitt / yrker som ikke kan identifiseres</td>\n",
       "      <td>Begge kjønn</td>\n",
       "      <td>I alt</td>\n",
       "      <td>9057</td>\n",
       "    </tr>\n",
       "    <tr>\n",
       "      <th>3</th>\n",
       "      <td>0000 Uoppgitt / yrker som ikke kan identifiseres</td>\n",
       "      <td>Begge kjønn</td>\n",
       "      <td>I alt</td>\n",
       "      <td>9057</td>\n",
       "    </tr>\n",
       "    <tr>\n",
       "      <th>4</th>\n",
       "      <td>01 Offiserer fra fenrik og høyere grad</td>\n",
       "      <td>Begge kjønn</td>\n",
       "      <td>I alt</td>\n",
       "      <td>9015</td>\n",
       "    </tr>\n",
       "  </tbody>\n",
       "</table>\n",
       "</div>"
      ],
      "text/plain": [
       "                                               yrke        kjønn arbeidstid  \\\n",
       "0                                    0-9 Alle yrker  Begge kjønn      I alt   \n",
       "1    00 Uoppgitt / yrker som ikke kan identifiseres  Begge kjønn      I alt   \n",
       "2   000 Uoppgitt / yrker som ikke kan identifiseres  Begge kjønn      I alt   \n",
       "3  0000 Uoppgitt / yrker som ikke kan identifiseres  Begge kjønn      I alt   \n",
       "4            01 Offiserer fra fenrik og høyere grad  Begge kjønn      I alt   \n",
       "\n",
       "   Lønnstakere 2019  \n",
       "0           2562491  \n",
       "1              9057  \n",
       "2              9057  \n",
       "3              9057  \n",
       "4              9015  "
      ]
     },
     "execution_count": 18,
     "metadata": {},
     "output_type": "execute_result"
    }
   ],
   "source": [
    "syss.head()"
   ]
  },
  {
   "cell_type": "code",
   "execution_count": 19,
   "metadata": {},
   "outputs": [],
   "source": [
    "syss[\"ISCO\"] = syss[\"yrke\"].str[:4]"
   ]
  },
  {
   "cell_type": "code",
   "execution_count": 47,
   "metadata": {},
   "outputs": [],
   "source": [
    "import re\n",
    "\n",
    "syss_isco4 = syss.loc[syss[\"yrke\"].apply(lambda x: True if re.match('[0-9]{4}', x[:4]) else False )]"
   ]
  },
  {
   "cell_type": "code",
   "execution_count": 48,
   "metadata": {},
   "outputs": [
    {
     "data": {
      "text/plain": [
       "582"
      ]
     },
     "execution_count": 48,
     "metadata": {},
     "output_type": "execute_result"
    }
   ],
   "source": [
    "len(syss)"
   ]
  },
  {
   "cell_type": "code",
   "execution_count": 49,
   "metadata": {},
   "outputs": [
    {
     "data": {
      "text/plain": [
       "407"
      ]
     },
     "execution_count": 49,
     "metadata": {},
     "output_type": "execute_result"
    }
   ],
   "source": [
    "len(syss_isco4)"
   ]
  },
  {
   "cell_type": "code",
   "execution_count": 52,
   "metadata": {},
   "outputs": [],
   "source": [
    "syss_isco4.to_csv('master_data/syss_check.csv', index=False)"
   ]
  },
  {
   "cell_type": "code",
   "execution_count": 63,
   "metadata": {},
   "outputs": [],
   "source": [
    "syss_isco4.reset_index()[[\"ISCO\", \"Lønnstakere 2019\"]].to_csv('master_data/syss_check.csv')"
   ]
  },
  {
   "cell_type": "code",
   "execution_count": null,
   "metadata": {},
   "outputs": [],
   "source": []
  }
 ],
 "metadata": {
  "kernelspec": {
   "display_name": "Python 3",
   "language": "python",
   "name": "python3"
  },
  "language_info": {
   "codemirror_mode": {
    "name": "ipython",
    "version": 3
   },
   "file_extension": ".py",
   "mimetype": "text/x-python",
   "name": "python",
   "nbconvert_exporter": "python",
   "pygments_lexer": "ipython3",
   "version": "3.7.6"
  }
 },
 "nbformat": 4,
 "nbformat_minor": 4
}
