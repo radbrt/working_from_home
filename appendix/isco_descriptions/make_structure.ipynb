{
 "cells": [
  {
   "cell_type": "code",
   "execution_count": 106,
   "metadata": {},
   "outputs": [],
   "source": [
    "# file from http://www.ilo.org/public/english/bureau/stat/isco/docs/groupdefn08.docx,\n",
    "# converted to html and plaitext (respectively) using word."
   ]
  },
  {
   "cell_type": "code",
   "execution_count": 1,
   "metadata": {},
   "outputs": [
    {
     "name": "stdout",
     "output_type": "stream",
     "text": [
      "Collecting bs4\n",
      "  Downloading bs4-0.0.1.tar.gz (1.1 kB)\n",
      "Requirement already satisfied: beautifulsoup4 in /opt/conda/lib/python3.7/site-packages (from bs4) (4.8.2)\n",
      "Requirement already satisfied: soupsieve>=1.2 in /opt/conda/lib/python3.7/site-packages (from beautifulsoup4->bs4) (1.9.4)\n",
      "Building wheels for collected packages: bs4\n",
      "  Building wheel for bs4 (setup.py) ... \u001b[?25ldone\n",
      "\u001b[?25h  Created wheel for bs4: filename=bs4-0.0.1-py3-none-any.whl size=1272 sha256=219e694263b15378d3920940772ab7a0dd02ece3aae1f030b95ee6c8c928dae4\n",
      "  Stored in directory: /home/jovyan/.cache/pip/wheels/0a/9e/ba/20e5bbc1afef3a491f0b3bb74d508f99403aabe76eda2167ca\n",
      "Successfully built bs4\n",
      "Installing collected packages: bs4\n",
      "Successfully installed bs4-0.0.1\n"
     ]
    }
   ],
   "source": [
    "!pip install bs4"
   ]
  },
  {
   "cell_type": "code",
   "execution_count": 2,
   "metadata": {},
   "outputs": [],
   "source": [
    "from bs4 import BeautifulSoup"
   ]
  },
  {
   "cell_type": "code",
   "execution_count": 3,
   "metadata": {},
   "outputs": [],
   "source": [
    "FILE = 'groupdefn08.html'"
   ]
  },
  {
   "cell_type": "code",
   "execution_count": 5,
   "metadata": {},
   "outputs": [],
   "source": [
    "f = open(FILE, 'r')\n",
    "isco = BeautifulSoup(f)"
   ]
  },
  {
   "cell_type": "code",
   "execution_count": 36,
   "metadata": {},
   "outputs": [],
   "source": [
    "titles = isco.find_all('p', \n",
    "                       {'style': 'margin-top:30.0pt;margin-right:-27.0pt;margin-bottom:\\n5.0pt;margin-left:72.0pt;tab-stops:29.25pt 31.5pt 100.5pt'})"
   ]
  },
  {
   "cell_type": "code",
   "execution_count": 37,
   "metadata": {},
   "outputs": [],
   "source": [
    "titletexts = [title.get_text() for title in titles]"
   ]
  },
  {
   "cell_type": "code",
   "execution_count": 38,
   "metadata": {},
   "outputs": [
    {
     "data": {
      "text/plain": [
       "['1111 Legislators',\n",
       " '1112 Senior Government Officials',\n",
       " '1113 Traditional Chiefs and Heads\\nof Villages',\n",
       " '1120 Managing Directors and Chief\\nExecutives',\n",
       " '1211 Finance Managers',\n",
       " '1212 Human Resource Managers',\n",
       " '1213 Policy and Planning Managers',\n",
       " '1219 Business Services and Administration\\nManagers Not Elsewhere Classified',\n",
       " '1221 Sales and Marketing Managers',\n",
       " '1222 Advertising and Public Relations\\nManagers',\n",
       " '1223 Research and Development Managers',\n",
       " '1311 Agricultural and Forestry\\nProduction Managers',\n",
       " '1312 Aquaculture and Fisheries\\nProduction Managers',\n",
       " '1321 Manufacturing Managers',\n",
       " '1322 Mining Managers',\n",
       " '1323 Construction Managers',\n",
       " '1324 Supply, Distribution and Related\\nManagers',\n",
       " '1330 Information and Communications\\nTechnology Services Managers',\n",
       " '1341 Child Care Services Managers',\n",
       " '1342 Health Services Managers',\n",
       " '\\xa01343 Aged Care Services Managers',\n",
       " '1344 Social Welfare Managers',\n",
       " '1345 Education Managers',\n",
       " '1346 Financial and Insurance Services\\nBranch Managers',\n",
       " '1349 Professional Services Managers\\nNot Elsewhere Classified',\n",
       " '1411 Hotel Managers',\n",
       " '1412 Restaurant Managers',\n",
       " '1420 Retail and Wholesale Trade\\nManagers',\n",
       " '1431 Sports, Recreation and Cultural\\nCentre Managers',\n",
       " '1439 Services Managers Not Elsewhere\\nClassified',\n",
       " '2111 Physicists and Astronomers',\n",
       " '2112 Meteorologists',\n",
       " '2113 Chemists',\n",
       " '2114 Geologists and Geophysicists',\n",
       " '2120 Mathematicians, Actuaries\\nand Statisticians',\n",
       " '2131 Biologists, Botanists, Zoologists\\nand Related Professionals',\n",
       " '\\xa0',\n",
       " 'Notes',\n",
       " '2132 Farming, Forestry and Fisheries\\nAdvisers',\n",
       " '2133 Environmental Protection Professionals',\n",
       " '2141 Industrial and Production\\nEngineers',\n",
       " '2142 Civil Engineers',\n",
       " '2143 Environmental Engineers',\n",
       " '2144 Mechanical Engineers',\n",
       " '2145 Chemical Engineers',\n",
       " '2146 Mining Engineers, Metallurgists\\nand Related Professionals',\n",
       " '2149 Engineering Professionals\\nNot Elsewhere Classified',\n",
       " '2151 Electrical Engineers',\n",
       " '2152 Electronics Engineers',\n",
       " '2153 Telecommunications Engineers',\n",
       " '2161 Building Architects',\n",
       " '2162 Landscape Architects',\n",
       " '2163 Product and Garment Designers',\n",
       " '2164 Town and Traffic Planners',\n",
       " '2165 Cartographers and Surveyors',\n",
       " '2166 Graphic and Multimedia Designers',\n",
       " '2211 Generalist Medical Practitioners',\n",
       " '2212 Specialist Medical Practitioners',\n",
       " '\\xa02221 Nursing Professionals',\n",
       " '2222 Midwifery Professionals',\n",
       " '2230 Traditional and Complementary\\nMedicine Professionals',\n",
       " '2240 Paramedical Practitioners',\n",
       " '2250 Veterinarians',\n",
       " '2261 Dentists',\n",
       " '2262 Pharmacists',\n",
       " '2263 Environmental and Occupational\\nHealth and Hygiene Professionals',\n",
       " '2264 Physiotherapists ',\n",
       " '2265\\xa0 Dieticians and Nutritionists',\n",
       " '2266 Audiologists and Speech Therapists',\n",
       " '2267 Optometrists and Ophthalmic\\nOpticians',\n",
       " '2269 Health Professionals Not Elsewhere\\nClassified',\n",
       " '2310 University and Higher\\nEducation Teachers',\n",
       " '2320 Vocational Education Teachers',\n",
       " '2330 Secondary Education Teachers',\n",
       " '2341 Primary School Teachers',\n",
       " '2342 Early Childhood Educators',\n",
       " '2351 Education Methods Specialists',\n",
       " '2352 Special Needs Teachers',\n",
       " '2353 Other Language Teachers',\n",
       " '2354 Other Music Teachers',\n",
       " '2355 Other Arts Teachers',\n",
       " '2356 Information Technology Trainers',\n",
       " '2359 Teaching Professionals Not\\nElsewhere Classified',\n",
       " '2411 Accountants',\n",
       " '2413 Financial Analysts',\n",
       " '2421 Management and Organization\\nAnalysts',\n",
       " '2422 Policy Administration Professionals',\n",
       " '2423 Personnel and Careers Professionals',\n",
       " '2424 Training and Staff Development\\nProfessionals',\n",
       " '2431 Advertising and Marketing\\nProfessionals',\n",
       " '2432 Public Relations Professionals',\n",
       " '2433 Technical and Medical Sales\\nProfessionals (excluding ICT)',\n",
       " '2434 Information and Communications\\nTechnology Sales Professionals',\n",
       " '2511 Systems Analysts',\n",
       " '2512 Software Developers',\n",
       " '2513 Web and Multimedia Developers',\n",
       " '2514 Applications Programmers',\n",
       " '2519 Software and Applications\\nDevelopers and Analysts Not Elsewhere Classified',\n",
       " '2521 Database Designers and Administrators',\n",
       " '2522 Systems Administrators',\n",
       " '2523 Computer Network Professionals',\n",
       " '2529 Database and Network Professionals\\nNot Elsewhere Classified',\n",
       " '5111 Travel Attendants and Travel\\nStewards',\n",
       " '5112 Transport Conductors',\n",
       " '5113 Travel Guides',\n",
       " '5120 Cooks',\n",
       " '5131 Waiters',\n",
       " '5132 Bartenders',\n",
       " '5141 Hairdressers',\n",
       " '5142 Beauticians and Related Workers',\n",
       " '5151 Cleaning and Housekeeping\\nSupervisors in Offices, Hotels and Other Establishments',\n",
       " '5152 Domestic Housekeepers',\n",
       " '5153 Building Caretakers',\n",
       " '5162 Companions and Valets',\n",
       " '5163 Undertakers and Embalmers',\n",
       " '5164 Pet Groomers and Animal Care\\nWorkers',\n",
       " '5165 Driving Instructors',\n",
       " '5169 Personal Services Workers\\nNot Elsewhere Classified',\n",
       " '5211 Stall and Market\\nsalespersons',\n",
       " '5212 Street Food Salespersons',\n",
       " '5221 Shopkeepers',\n",
       " '5222 Shop Supervisors',\n",
       " '5223 Shop Sales Assistants',\n",
       " '5230 Cashiers and Ticket Clerks',\n",
       " '5241 Fashion and Other Models',\n",
       " '5242 Sales Demonstrators',\n",
       " '5243 Door-to-door salespersons',\n",
       " '5245 Service Station Attendants',\n",
       " '5246 Food Service Counter Attendants',\n",
       " '5249 Sales Workers Not Elsewhere\\nClassified',\n",
       " '5311 Child Care Workers',\n",
       " '5312 Teachers’ Aides',\n",
       " '5321 Health Care Assistants',\n",
       " '5322 Home-based Personal Care Workers',\n",
       " '5329 Personal Care Workers in Health\\nServices Not Elsewhere Classified',\n",
       " '5411 Firefighters',\n",
       " '5412 Police Officers',\n",
       " '5413 Prison Guards',\n",
       " '5414 Security Guards',\n",
       " '5419 Protective Services Workers\\nNot Elsewhere Classified']"
      ]
     },
     "execution_count": 38,
     "metadata": {},
     "output_type": "execute_result"
    }
   ],
   "source": [
    "titletexts"
   ]
  },
  {
   "cell_type": "code",
   "execution_count": 39,
   "metadata": {},
   "outputs": [],
   "source": [
    "texts = isco.find_all('p', {'style': 'margin-top:0cm;margin-right:-27.0pt;margin-bottom:\\n3.0pt;margin-left:73.7pt;text-indent:-19.85pt'})"
   ]
  },
  {
   "cell_type": "code",
   "execution_count": 40,
   "metadata": {},
   "outputs": [
    {
     "data": {
      "text/plain": [
       "1163"
      ]
     },
     "execution_count": 40,
     "metadata": {},
     "output_type": "execute_result"
    }
   ],
   "source": [
    "len(texts)"
   ]
  },
  {
   "cell_type": "code",
   "execution_count": 41,
   "metadata": {},
   "outputs": [
    {
     "data": {
      "text/plain": [
       "140"
      ]
     },
     "execution_count": 41,
     "metadata": {},
     "output_type": "execute_result"
    }
   ],
   "source": [
    "len(titletexts)"
   ]
  },
  {
   "cell_type": "code",
   "execution_count": 27,
   "metadata": {},
   "outputs": [],
   "source": [
    "strfile = 'structure08.html'\n",
    "sf = open(strfile, 'r')\n",
    "sfsoup = BeautifulSoup(sf)"
   ]
  },
  {
   "cell_type": "code",
   "execution_count": 28,
   "metadata": {},
   "outputs": [],
   "source": [
    "ttls = sfsoup.find_all('p', {'style': 'margin-top:12.0pt;margin-right:-18.0pt;\\n\\\n",
    "margin-bottom:12.0pt;margin-left:121.0pt;mso-add-space:auto;text-align:justify;\\n\\\n",
    "text-indent:-46.8pt'})"
   ]
  },
  {
   "cell_type": "code",
   "execution_count": 29,
   "metadata": {},
   "outputs": [
    {
     "data": {
      "text/plain": [
       "471"
      ]
     },
     "execution_count": 29,
     "metadata": {},
     "output_type": "execute_result"
    }
   ],
   "source": [
    "len(ttls)"
   ]
  },
  {
   "cell_type": "code",
   "execution_count": 43,
   "metadata": {},
   "outputs": [
    {
     "data": {
      "text/plain": [
       "<p class=\"MsoNormalCxSpMiddle\" style=\"margin-top:12.0pt;margin-right:-18.0pt;\n",
       "margin-bottom:12.0pt;margin-left:121.0pt;mso-add-space:auto;text-align:justify;\n",
       "text-indent:-46.8pt\"><span lang=\"EN-GB\" style='font-family:\"Arial\",sans-serif;\n",
       "mso-fareast-language:EN-GB'>1111<span style=\"mso-tab-count:1\">       </span>Legislators<o:p></o:p></span></p>"
      ]
     },
     "execution_count": 43,
     "metadata": {},
     "output_type": "execute_result"
    }
   ],
   "source": [
    "ttls[0]"
   ]
  },
  {
   "cell_type": "code",
   "execution_count": 44,
   "metadata": {},
   "outputs": [],
   "source": [
    "txtfile = 'groupdefn08.txt'"
   ]
  },
  {
   "cell_type": "code",
   "execution_count": 45,
   "metadata": {},
   "outputs": [],
   "source": [
    "txtf = open(txtfile, 'r').readlines()"
   ]
  },
  {
   "cell_type": "code",
   "execution_count": 46,
   "metadata": {},
   "outputs": [
    {
     "data": {
      "text/plain": [
       "10057"
      ]
     },
     "execution_count": 46,
     "metadata": {},
     "output_type": "execute_result"
    }
   ],
   "source": [
    "len(txtf)"
   ]
  },
  {
   "cell_type": "code",
   "execution_count": 47,
   "metadata": {},
   "outputs": [],
   "source": [
    "import re"
   ]
  },
  {
   "cell_type": "code",
   "execution_count": 79,
   "metadata": {},
   "outputs": [],
   "source": [
    "a = re.match('[0-9]{4}', '1234 HSLV')"
   ]
  },
  {
   "cell_type": "code",
   "execution_count": 99,
   "metadata": {},
   "outputs": [],
   "source": [
    "iscos = []\n",
    "\n",
    "for line0 in txtf:\n",
    "    line = line0.strip()\n",
    "    if len(line)>0:\n",
    "        if re.match('[0-9]{4}', line):\n",
    "            current = 1\n",
    "            if 'item' in locals():\n",
    "                iscos.append(item)\n",
    "            item = {'title': line, 'maindesc': [], 'contents': []}\n",
    "        else:\n",
    "            if 'item' in locals():\n",
    "                if current==1 and line[0]!='(':\n",
    "                    item['maindesc'].append(line)\n",
    "                if line[0]=='(':\n",
    "                    item['contents'].append(line)\n",
    "                    current = 0\n",
    "            \n",
    "del(item)"
   ]
  },
  {
   "cell_type": "code",
   "execution_count": 90,
   "metadata": {},
   "outputs": [],
   "source": [
    "del(item)"
   ]
  },
  {
   "cell_type": "code",
   "execution_count": 100,
   "metadata": {},
   "outputs": [
    {
     "data": {
      "text/plain": [
       "872"
      ]
     },
     "execution_count": 100,
     "metadata": {},
     "output_type": "execute_result"
    }
   ],
   "source": [
    "len(iscos)"
   ]
  },
  {
   "cell_type": "code",
   "execution_count": 101,
   "metadata": {},
   "outputs": [
    {
     "data": {
      "text/plain": [
       "{'title': '1112 Senior Government Officials',\n",
       " 'maindesc': ['Senior government officials advise governments on policy matters, oversee the interpretation and implementation of government policies and legislation by government departments and agencies, represent their country abroad and act on its behalf, or carry out similar tasks in intergovernmental organizations. They plan, organize, direct, control and evaluate the overall activities of municipal or local, regional and national government departments, boards, agencies or commissions in accordance with legislation and policies established by government and legislative bodies.',\n",
       "  'Tasks include –'],\n",
       " 'contents': ['(a)  advising national, state, regional or local governments and legislators on policy matters;',\n",
       "  '(b)  advising on the preparation of government budgets, laws and regulations, including amendments;',\n",
       "  '(c)  establishing objectives for government departments or agencies in accordance with government legislation and policy;',\n",
       "  '(d)  formulating or approving and evaluating programmes and procedures for the implementation of government policies in conjunction or consultation with government,',\n",
       "  '(e)  recommending, reviewing, evaluating and approving documents, briefs and reports submitted by middle managers and senior staff members;',\n",
       "  '(f)  ensuring appropriate systems and procedures are developed and implemented to provide budgetary control;',\n",
       "  '(g)  coordinating activities with other senior government managers and officials;',\n",
       "  '(h)  making presentations to legislative and other government committees regarding policies, programmes or budgets;',\n",
       "  '(i)  overseeing the interpretation and implementation of government policies and legislation by government departments and agencies.']}"
      ]
     },
     "execution_count": 101,
     "metadata": {},
     "output_type": "execute_result"
    }
   ],
   "source": [
    "iscos[0]"
   ]
  },
  {
   "cell_type": "code",
   "execution_count": 102,
   "metadata": {},
   "outputs": [],
   "source": [
    "contains = [isco for isco in iscos if isco['contents']]"
   ]
  },
  {
   "cell_type": "code",
   "execution_count": 103,
   "metadata": {},
   "outputs": [
    {
     "data": {
      "text/plain": [
       "427"
      ]
     },
     "execution_count": 103,
     "metadata": {},
     "output_type": "execute_result"
    }
   ],
   "source": [
    "len(contains)"
   ]
  },
  {
   "cell_type": "code",
   "execution_count": 104,
   "metadata": {},
   "outputs": [
    {
     "data": {
      "text/plain": [
       "{'title': '4415 Filing and Copying Clerks',\n",
       " 'maindesc': ['Filing and copying clerks file correspondence, cards, invoices, receipts and other records in alphabetical or numerical order or according to the filing system used. They locate and remove material from file when requested and photocopy, scan or fax documents.',\n",
       "  'Tasks include –'],\n",
       " 'contents': ['(a)  sorting or classifying materials according to guidelines such as content, purpose, user criteria, or chronological, alphabetical or numerical order;',\n",
       "  '(b)  filing material in drawers, cabinets and storage boxes;',\n",
       "  '(c)  locating and remove materials from files when requested;',\n",
       "  '(d)  keeping records of materials filed and removed;',\n",
       "  '(e)  photocopying, scanning or faxing documents.']}"
      ]
     },
     "execution_count": 104,
     "metadata": {},
     "output_type": "execute_result"
    }
   ],
   "source": [
    "contains[230]"
   ]
  },
  {
   "cell_type": "code",
   "execution_count": 143,
   "metadata": {},
   "outputs": [],
   "source": [
    "things_to_do = [{\"source\": item[4:-1].strip(), \"id\": job[\"title\"][:5].strip()+item[:4].strip()} for job in contains for item in job['contents'] ]"
   ]
  },
  {
   "cell_type": "code",
   "execution_count": 144,
   "metadata": {},
   "outputs": [
    {
     "data": {
      "text/plain": [
       "3262"
      ]
     },
     "execution_count": 144,
     "metadata": {},
     "output_type": "execute_result"
    }
   ],
   "source": [
    "len(things_to_do)"
   ]
  },
  {
   "cell_type": "code",
   "execution_count": 145,
   "metadata": {},
   "outputs": [
    {
     "data": {
      "text/plain": [
       "{'source': 'advising on the preparation of government budgets, laws and regulations, including amendments',\n",
       " 'id': '1112(b)'}"
      ]
     },
     "execution_count": 145,
     "metadata": {},
     "output_type": "execute_result"
    }
   ],
   "source": [
    "things_to_do[1]"
   ]
  },
  {
   "cell_type": "code",
   "execution_count": 119,
   "metadata": {},
   "outputs": [
    {
     "data": {
      "text/plain": [
       "'(k)  assembling and installing new pipe organs and pianos in buildings.'"
      ]
     },
     "execution_count": 119,
     "metadata": {},
     "output_type": "execute_result"
    }
   ],
   "source": [
    "things_to_do[2457]"
   ]
  },
  {
   "cell_type": "code",
   "execution_count": 141,
   "metadata": {},
   "outputs": [
    {
     "data": {
      "text/plain": [
       "\"{'source': 'advising national, state, regional or local governments and legislators on policy matters', 'id': '1112(a)'}\""
      ]
     },
     "execution_count": 141,
     "metadata": {},
     "output_type": "execute_result"
    }
   ],
   "source": [
    "str(things_to_do[0])"
   ]
  },
  {
   "cell_type": "code",
   "execution_count": 148,
   "metadata": {},
   "outputs": [],
   "source": [
    "out = open('tasks.txt', 'w')\n",
    "for thing in things_to_do:\n",
    "    out.write(json.dumps(thing)+'\\n')\n",
    "out.close()"
   ]
  },
  {
   "cell_type": "code",
   "execution_count": 146,
   "metadata": {},
   "outputs": [],
   "source": [
    "import json"
   ]
  },
  {
   "cell_type": "code",
   "execution_count": 147,
   "metadata": {},
   "outputs": [
    {
     "data": {
      "text/plain": [
       "'[{\"source\": \"advising national, state, regional or local governments and legislators on policy matte'"
      ]
     },
     "execution_count": 147,
     "metadata": {},
     "output_type": "execute_result"
    }
   ],
   "source": [
    "json.dumps(things_to_do)[:100]"
   ]
  },
  {
   "cell_type": "code",
   "execution_count": 131,
   "metadata": {},
   "outputs": [
    {
     "data": {
      "text/plain": [
       "'advising national, state, regional or local governments and legislators on policy matters'"
      ]
     },
     "execution_count": 131,
     "metadata": {},
     "output_type": "execute_result"
    }
   ],
   "source": [
    "things_to_do[0][4:-1].strip()"
   ]
  },
  {
   "cell_type": "code",
   "execution_count": 151,
   "metadata": {},
   "outputs": [
    {
     "data": {
      "text/plain": [
       "{'title': '1111 Legislators',\n",
       " 'maindesc': ['Legislators determine, formulate and direct policies of national, state, regional or local governments and international governmental agencies, and make, ratify, amend or repeal laws, public rules and regulations. They include elected and non-elected members of parliaments, councils and governments.',\n",
       "  'Tasks include –'],\n",
       " 'contents': ['(a)  presiding over or participating in the proceedings of legislative bodies and administrative councils of national, state, regional or local governments or legislative assemblies;',\n",
       "  '(b)  determining, formulating and directing policies of national, state, regional or local governments;',\n",
       "  '(c)  making, ratifying, amending or repealing laws, public rules and regulations within a statutory or constitutional framework;',\n",
       "  '(d)  serving on government administrative boards or official committees;',\n",
       "  '(e)  investigating matters of concern to the public and promoting the interests of the constituencies which they represent;',\n",
       "  '(f)  attending community functions and meetings to provide service to the community, understand public opinion and provide information on government plans;',\n",
       "  '(g)  negotiating with other legislators and representatives of interest groups in order to reconcile differing interests, and to create policies and agreements;',\n",
       "  '(h)  as members of the government, directing senior administrators and officials of government departments and agencies in the interpretation and implementation of government policies.']}"
      ]
     },
     "execution_count": 151,
     "metadata": {},
     "output_type": "execute_result"
    }
   ],
   "source": [
    "contains[1]"
   ]
  },
  {
   "cell_type": "code",
   "execution_count": 171,
   "metadata": {},
   "outputs": [],
   "source": [
    "FRONT = '<HTMLContent><![CDATA[<!DOCTYPE html>'\n",
    "BACK = ']]></HTMLContent>'"
   ]
  },
  {
   "cell_type": "code",
   "execution_count": 192,
   "metadata": {},
   "outputs": [],
   "source": [
    "jobs = [{'source': job['maindesc'][0].strip(), 'isco': job['title'][:5].strip() }\n",
    "          for job in contains]"
   ]
  },
  {
   "cell_type": "code",
   "execution_count": 193,
   "metadata": {},
   "outputs": [
    {
     "data": {
      "text/plain": [
       "{'source': 'Generalist medical practitioners (including family and primary care doctors) diagnose, treat and prevent illness, disease, injury and other physical and mental impairments and maintain general health in humans through application of the principles and procedures of modern medicine.  They do not limit their practice to certain disease categories or methods of treatment, and may assume responsibility for the provision of continuing and comprehensive medical care to individuals, families and communities.',\n",
       " 'isco': '2211'}"
      ]
     },
     "execution_count": 193,
     "metadata": {},
     "output_type": "execute_result"
    }
   ],
   "source": [
    "jobs[54]"
   ]
  },
  {
   "cell_type": "code",
   "execution_count": 194,
   "metadata": {},
   "outputs": [],
   "source": [
    "out = open('jobs_simple.txt', 'w')\n",
    "for entry in jobs:\n",
    "    out.write(json.dumps(entry)+'\\n')\n",
    "out.close()"
   ]
  },
  {
   "cell_type": "code",
   "execution_count": 179,
   "metadata": {},
   "outputs": [],
   "source": [
    "import time"
   ]
  },
  {
   "cell_type": "code",
   "execution_count": 182,
   "metadata": {},
   "outputs": [
    {
     "data": {
      "text/plain": [
       "'1586252505.6446698'"
      ]
     },
     "execution_count": 182,
     "metadata": {},
     "output_type": "execute_result"
    }
   ],
   "source": [
    "str(time.time())"
   ]
  },
  {
   "cell_type": "code",
   "execution_count": 183,
   "metadata": {},
   "outputs": [],
   "source": [
    "r = [{\"datasetObjectId\":\"1094\",\"consolidatedAnnotation\":{\"content\":{\"ssb-work-from-home-tasks-metadata\":{\"confidence\":0.79,\"job-name\":\"labeling-job/ssb-work-from-home-tasks\",\"class-name\":\"Yes\",\"human-annotated\":\"yes\",\"creation-date\":\"2020-04-07T06:28:41.076528\",\"type\":\"groundtruth/text-classification\"},\"ssb-work-from-home-tasks\":0}}},{\"datasetObjectId\":\"675\",\"consolidatedAnnotation\":{\"content\":{\"ssb-work-from-home-tasks-metadata\":{\"confidence\":0.79,\"job-name\":\"labeling-job/ssb-work-from-home-tasks\",\"class-name\":\"No\",\"human-annotated\":\"yes\",\"creation-date\":\"2020-04-07T06:28:41.076549\",\"type\":\"groundtruth/text-classification\"},\"ssb-work-from-home-tasks\":1}}},{\"datasetObjectId\":\"2098\",\"consolidatedAnnotation\":{\"content\":{\"ssb-work-from-home-tasks-metadata\":{\"confidence\":0.79,\"job-name\":\"labeling-job/ssb-work-from-home-tasks\",\"class-name\":\"No\",\"human-annotated\":\"yes\",\"creation-date\":\"2020-04-07T06:28:41.076562\",\"type\":\"groundtruth/text-classification\"},\"ssb-work-from-home-tasks\":1}}},{\"datasetObjectId\":\"332\",\"consolidatedAnnotation\":{\"content\":{\"ssb-work-from-home-tasks-metadata\":{\"confidence\":0.79,\"job-name\":\"labeling-job/ssb-work-from-home-tasks\",\"class-name\":\"Yes\",\"human-annotated\":\"yes\",\"creation-date\":\"2020-04-07T06:28:41.076574\",\"type\":\"groundtruth/text-classification\"},\"ssb-work-from-home-tasks\":0}}}]"
   ]
  },
  {
   "cell_type": "code",
   "execution_count": 184,
   "metadata": {},
   "outputs": [
    {
     "data": {
      "text/plain": [
       "4"
      ]
     },
     "execution_count": 184,
     "metadata": {},
     "output_type": "execute_result"
    }
   ],
   "source": [
    "len(r)"
   ]
  },
  {
   "cell_type": "code",
   "execution_count": 185,
   "metadata": {},
   "outputs": [
    {
     "data": {
      "text/plain": [
       "{'datasetObjectId': '675',\n",
       " 'consolidatedAnnotation': {'content': {'ssb-work-from-home-tasks-metadata': {'confidence': 0.79,\n",
       "    'job-name': 'labeling-job/ssb-work-from-home-tasks',\n",
       "    'class-name': 'No',\n",
       "    'human-annotated': 'yes',\n",
       "    'creation-date': '2020-04-07T06:28:41.076549',\n",
       "    'type': 'groundtruth/text-classification'},\n",
       "   'ssb-work-from-home-tasks': 1}}}"
      ]
     },
     "execution_count": 185,
     "metadata": {},
     "output_type": "execute_result"
    }
   ],
   "source": [
    "r[1]"
   ]
  },
  {
   "cell_type": "code",
   "execution_count": 186,
   "metadata": {},
   "outputs": [],
   "source": [
    "r = [{\"datasetObjectId\":\"1094\",\"dataObject\":{\"content\":\"preparing detailed estimates of quantities and costs of materials and labour required for manufacture and installation, according to the specifications given\"},\"annotations\":[{\"workerId\":\"private.eu-central-1.7fb84ba2c837bd34\",\"annotationData\":{\"content\":\"{\\\"crowd-classifier\\\":{\\\"label\\\":\\\"Yes\\\"}}\"}}]},{\"datasetObjectId\":\"675\",\"dataObject\":{\"content\":\"observing and evaluating children’s performance and behaviour\"},\"annotations\":[{\"workerId\":\"private.eu-central-1.7fb84ba2c837bd34\",\"annotationData\":{\"content\":\"{\\\"crowd-classifier\\\":{\\\"label\\\":\\\"No\\\"}}\"}}]},{\"datasetObjectId\":\"2098\",\"dataObject\":{\"content\":\"preparing soil by hand or machine, and spreading fertilizers and manure\"},\"annotations\":[{\"workerId\":\"private.eu-central-1.7fb84ba2c837bd34\",\"annotationData\":{\"content\":\"{\\\"crowd-classifier\\\":{\\\"label\\\":\\\"No\\\"}}\"}}]},{\"datasetObjectId\":\"332\",\"dataObject\":{\"content\":\"studying, improving and developing mathematical, actuarial and statistical theories and techniques\"},\"annotations\":[{\"workerId\":\"private.eu-central-1.7fb84ba2c837bd34\",\"annotationData\":{\"content\":\"{\\\"crowd-classifier\\\":{\\\"label\\\":\\\"Yes\\\"}}\"}}]}]"
   ]
  },
  {
   "cell_type": "code",
   "execution_count": 187,
   "metadata": {},
   "outputs": [
    {
     "data": {
      "text/plain": [
       "4"
      ]
     },
     "execution_count": 187,
     "metadata": {},
     "output_type": "execute_result"
    }
   ],
   "source": [
    "len(r)"
   ]
  },
  {
   "cell_type": "code",
   "execution_count": 188,
   "metadata": {},
   "outputs": [
    {
     "data": {
      "text/plain": [
       "{'datasetObjectId': '1094',\n",
       " 'dataObject': {'content': 'preparing detailed estimates of quantities and costs of materials and labour required for manufacture and installation, according to the specifications given'},\n",
       " 'annotations': [{'workerId': 'private.eu-central-1.7fb84ba2c837bd34',\n",
       "   'annotationData': {'content': '{\"crowd-classifier\":{\"label\":\"Yes\"}}'}}]}"
      ]
     },
     "execution_count": 188,
     "metadata": {},
     "output_type": "execute_result"
    }
   ],
   "source": [
    "r[0]"
   ]
  },
  {
   "cell_type": "code",
   "execution_count": null,
   "metadata": {},
   "outputs": [],
   "source": []
  }
 ],
 "metadata": {
  "kernelspec": {
   "display_name": "Python 3",
   "language": "python",
   "name": "python3"
  },
  "language_info": {
   "codemirror_mode": {
    "name": "ipython",
    "version": 3
   },
   "file_extension": ".py",
   "mimetype": "text/x-python",
   "name": "python",
   "nbconvert_exporter": "python",
   "pygments_lexer": "ipython3",
   "version": "3.7.6"
  }
 },
 "nbformat": 4,
 "nbformat_minor": 4
}
