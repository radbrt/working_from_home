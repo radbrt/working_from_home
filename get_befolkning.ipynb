{
 "cells": [
  {
   "cell_type": "code",
   "execution_count": null,
   "metadata": {},
   "outputs": [],
   "source": [
    "{\n",
    "  \"query\": [\n",
    "    {\n",
    "      \"code\": \"Region\",\n",
    "      \"selection\": {\n",
    "        \"filter\": \"vs:KommunerNyeste\",\n",
    "        \"values\": [\n",
    "          \"*\"\n",
    "        ]\n",
    "      }\n",
    "    },\n",
    "    {\n",
    "      \"code\": \"Alder\",\n",
    "      \"selection\": {\n",
    "        \"filter\": \"vs:AlleAldre00B\",\n",
    "        \"values\": []\n",
    "      }\n",
    "    },\n",
    "    {\n",
    "      \"code\": \"Tid\",\n",
    "      \"selection\": {\n",
    "        \"filter\": \"item\",\n",
    "        \"values\": [\n",
    "          \"2018\"\n",
    "        ]\n",
    "      }\n",
    "    }\n",
    "  ],\n",
    "  \"response\": {\n",
    "    \"format\": \"csv\"\n",
    "  }\n",
    "}"
   ]
  }
 ],
 "metadata": {
  "kernelspec": {
   "display_name": "Python 3",
   "language": "python",
   "name": "python3"
  },
  "language_info": {
   "codemirror_mode": {
    "name": "ipython",
    "version": 3
   },
   "file_extension": ".py",
   "mimetype": "text/x-python",
   "name": "python",
   "nbconvert_exporter": "python",
   "pygments_lexer": "ipython3",
   "version": "3.7.6"
  }
 },
 "nbformat": 4,
 "nbformat_minor": 4
}
